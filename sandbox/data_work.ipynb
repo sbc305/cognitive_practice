{
 "cells": [
  {
   "cell_type": "code",
   "execution_count": null,
   "id": "684a8a04-1157-40d6-b8e2-874b9ba8541f",
   "metadata": {},
   "outputs": [],
   "source": [
    "import pandas as pd\n",
    "import plotly.io as pio\n",
    "import plotly.graph_objects as go\n",
    "import plotly.express as px\n",
    "\n",
    "def convert_to_microseconds(x):\n",
    "    return ((x.hour * 60 + x.minute) * 60 + x.second) * 10 ** 6 + x.microsecond\n",
    "\n",
    "data = pd.read_csv(\"data.csv\")\n",
    "data[\"time\"] = pd.to_datetime(data[\"ts\"], format='mixed').dt.time.apply(convert_to_microseconds)"
   ]
  },
  {
   "cell_type": "code",
   "execution_count": null,
   "id": "326411db-e839-478c-b51c-8485b883a4d7",
   "metadata": {},
   "outputs": [],
   "source": [
    "timestamps = pd.Series([\"2024-08-21 09:26:38\", \"2024-08-21 09:27:48\", \"2024-08-21 09:41:00\", '2024-08-21 09:42:10', '2024-08-21 09:55:25', \\\n",
    "                '2024-08-21 09:56:55', '2024-08-21 10:06:17', '2024-08-21 10:07:47', '2024-08-21 10:25:00','2024-08-21 10:26:20',\\\n",
    "                '2024-08-21 10:35:25', '2024-08-21 10:36:45', '2024-08-21 10:40:13', '2024-08-21 10:41:33', '2024-08-21 10:45:52',\\\n",
    "                '2024-08-21 10:47:22', '2024-08-21 10:49:37', '2024-08-21 10:51:07', '2024-08-21 12:17:03','2024-08-21 12:27:53',\\\n",
    "                '2024-08-21 12:44:41', '2024-08-21 12:49:51', '2024-08-21 12:56:45', '2024-08-21 13:04:15'])\n",
    "\n",
    "timestamps = pd.DataFrame(timestamps, columns=[\"timestamps\"])\n",
    "timestamps['time'] = pd.to_datetime(timestamps[\"timestamps\"], format='mixed').dt.time.apply(convert_to_microseconds)"
   ]
  },
  {
   "cell_type": "code",
   "execution_count": null,
   "id": "a48f9046-7701-4a30-8617-ebb83dcbd1a6",
   "metadata": {},
   "outputs": [],
   "source": [
    "pd.options.plotting.backend = \"plotly\"\n",
    "plot_data = pd.DataFrame()\n",
    "fig = go.Figure()\n",
    "\n",
    "period_lens = [timestamps.at[i + 1, \"time\"] - timestamps.at[i, \"time\"] for i in range(0, timestamps.shape[0], 2)]\n",
    "\n",
    "for i in range(0, timestamps.shape[0], 2):\n",
    "    start = timestamps.at[i, \"time\"]\n",
    "    end = start + min(period_lens)\n",
    "    piece_of_data = data[(end >= data[\"time\"]) & (data['time'] >= start)]\n",
    "    delta = piece_of_data['time'] - start\n",
    "    piece_of_data.insert(piece_of_data.shape[1], 'time section', [i // 2] * piece_of_data.shape[0])\n",
    "    plot_data = pd.concat([plot_data, piece_of_data])\n",
    "\n",
    "    fig.add_trace(go.Scatter(y=piece_of_data.cte, x=delta / 10 ** 6, mode=\"lines\", name=i//2))\n",
    "\n",
    "fig.update_layout(\n",
    "    yaxis_title=\"cte, m\", xaxis_title=\"time, seconds\"\n",
    ")\n",
    "fig.show()"
   ]
  },
  {
   "cell_type": "code",
   "execution_count": null,
   "id": "46d4e346-7f76-4559-80b8-b0aed9c0bf93",
   "metadata": {},
   "outputs": [],
   "source": [
    "data.plot(x='time', y='speed')"
   ]
  },
  {
   "cell_type": "code",
   "execution_count": null,
   "id": "dc9ab248-4c6d-4b2c-9e45-907c57b2d796",
   "metadata": {},
   "outputs": [],
   "source": [
    "data.plot(x='time', y='yaw_rate')"
   ]
  },
  {
   "cell_type": "code",
   "execution_count": null,
   "id": "b61ebcd3-22b7-4326-a1ff-b82fd9b77870",
   "metadata": {},
   "outputs": [],
   "source": [
    "selected_data = data[(data['speed'] > 0.6) & (data['yaw_rate'] < 0.2) & (data['yaw_rate'] > -0.2)]\n",
    "plot_data = pd.DataFrame()\n",
    "fig = go.Figure()\n",
    "\n",
    "for i in range(0, timestamps.shape[0], 2):\n",
    "    start = timestamps.at[i, \"time\"]\n",
    "    end = timestamps.at[i + 1, \"time\"]\n",
    "    piece_of_data = selected_data[(end >= selected_data[\"time\"]) & (selected_data['time'] >= start)]\n",
    "    delta = pd.to_timedelta(piece_of_data['time'].astype(str)) - pd.to_timedelta(str(start))\n",
    "    piece_of_data.insert(piece_of_data.shape[1], 'time section', [i // 2] * piece_of_data.shape[0])\n",
    "    plot_data = pd.concat([plot_data, piece_of_data])\n",
    "\n",
    "    fig.add_trace(go.Scatter(y=piece_of_data.cte, x=delta.dt.total_seconds(), mode=\"lines\", name=i//2))\n",
    "\n",
    "fig.update_layout(\n",
    "    yaxis_title=\"cte, m\", xaxis_title=\"time, seconds\"\n",
    ")\n",
    "fig.show()"
   ]
  }
 ],
 "metadata": {
  "kernelspec": {
   "display_name": "Python 3 (ipykernel)",
   "language": "python",
   "name": "python3"
  },
  "language_info": {
   "codemirror_mode": {
    "name": "ipython",
    "version": 3
   },
   "file_extension": ".py",
   "mimetype": "text/x-python",
   "name": "python",
   "nbconvert_exporter": "python",
   "pygments_lexer": "ipython3",
   "version": "3.12.4"
  }
 },
 "nbformat": 4,
 "nbformat_minor": 5
}
